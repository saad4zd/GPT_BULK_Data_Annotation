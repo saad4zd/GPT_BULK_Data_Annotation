{
 "cells": [
  {
   "cell_type": "markdown",
   "metadata": {},
   "source": [
    "### Importing the libraries"
   ]
  },
  {
   "cell_type": "code",
   "execution_count": 7,
   "metadata": {},
   "outputs": [
    {
     "name": "stderr",
     "output_type": "stream",
     "text": [
      "/home/zds/Desktop/ml/venv/lib/python3.8/site-packages/tqdm/auto.py:21: TqdmWarning: IProgress not found. Please update jupyter and ipywidgets. See https://ipywidgets.readthedocs.io/en/stable/user_install.html\n",
      "  from .autonotebook import tqdm as notebook_tqdm\n",
      "2024-04-01 10:50:26.402419: I tensorflow/tsl/cuda/cudart_stub.cc:28] Could not find cuda drivers on your machine, GPU will not be used.\n",
      "2024-04-01 10:50:27.393073: I tensorflow/tsl/cuda/cudart_stub.cc:28] Could not find cuda drivers on your machine, GPU will not be used.\n",
      "2024-04-01 10:50:29.675588: W tensorflow/compiler/tf2tensorrt/utils/py_utils.cc:38] TF-TRT Warning: Could not find TensorRT\n"
     ]
    }
   ],
   "source": [
    "import pandas as pd\n",
    "from umap import UMAP\n",
    "from sentence_transformers import SentenceTransformer"
   ]
  },
  {
   "cell_type": "markdown",
   "metadata": {},
   "source": [
    "### Load Embedding Tool"
   ]
  },
  {
   "cell_type": "code",
   "execution_count": 8,
   "metadata": {},
   "outputs": [],
   "source": [
    "model = SentenceTransformer('paraphrase-MiniLM-L6-v2')"
   ]
  },
  {
   "cell_type": "markdown",
   "metadata": {},
   "source": [
    "### Load Orignal Dataset"
   ]
  },
  {
   "cell_type": "code",
   "execution_count": 9,
   "metadata": {},
   "outputs": [],
   "source": [
    "df = pd.read_csv('./Corona_NLP_test.csv')"
   ]
  },
  {
   "cell_type": "markdown",
   "metadata": {},
   "source": [
    "### Calculate Embeddings"
   ]
  },
  {
   "cell_type": "code",
   "execution_count": 10,
   "metadata": {},
   "outputs": [],
   "source": [
    "X = model.encode(df['OriginalTweet'])"
   ]
  },
  {
   "cell_type": "markdown",
   "metadata": {},
   "source": [
    "### Reduce the Dimensions using UMAP"
   ]
  },
  {
   "cell_type": "code",
   "execution_count": 11,
   "metadata": {},
   "outputs": [],
   "source": [
    "umap = UMAP(n_components=2)\n",
    "X_tfm = umap.fit_transform(X)"
   ]
  },
  {
   "cell_type": "markdown",
   "metadata": {},
   "source": [
    "### Apply Coordinates"
   ]
  },
  {
   "cell_type": "code",
   "execution_count": 12,
   "metadata": {},
   "outputs": [],
   "source": [
    "df['x'] = X_tfm[:, 0]\n",
    "df['y'] = X_tfm[:, 1]"
   ]
  },
  {
   "cell_type": "markdown",
   "metadata": {},
   "source": [
    "### Taking only Specific Columns"
   ]
  },
  {
   "cell_type": "code",
   "execution_count": 13,
   "metadata": {},
   "outputs": [
    {
     "name": "stderr",
     "output_type": "stream",
     "text": [
      "/tmp/ipykernel_3466/3226939773.py:2: SettingWithCopyWarning: \n",
      "A value is trying to be set on a copy of a slice from a DataFrame\n",
      "\n",
      "See the caveats in the documentation: https://pandas.pydata.org/pandas-docs/stable/user_guide/indexing.html#returning-a-view-versus-a-copy\n",
      "  new_df.rename(columns={'OriginalTweet': 'text'}, inplace=True)\n"
     ]
    },
    {
     "data": {
      "text/html": [
       "<div>\n",
       "<style scoped>\n",
       "    .dataframe tbody tr th:only-of-type {\n",
       "        vertical-align: middle;\n",
       "    }\n",
       "\n",
       "    .dataframe tbody tr th {\n",
       "        vertical-align: top;\n",
       "    }\n",
       "\n",
       "    .dataframe thead th {\n",
       "        text-align: right;\n",
       "    }\n",
       "</style>\n",
       "<table border=\"1\" class=\"dataframe\">\n",
       "  <thead>\n",
       "    <tr style=\"text-align: right;\">\n",
       "      <th></th>\n",
       "      <th>text</th>\n",
       "      <th>x</th>\n",
       "      <th>y</th>\n",
       "    </tr>\n",
       "  </thead>\n",
       "  <tbody>\n",
       "    <tr>\n",
       "      <th>0</th>\n",
       "      <td>TRENDING: New Yorkers encounter empty supermar...</td>\n",
       "      <td>5.975204</td>\n",
       "      <td>1.752700</td>\n",
       "    </tr>\n",
       "    <tr>\n",
       "      <th>1</th>\n",
       "      <td>When I couldn't find hand sanitizer at Fred Me...</td>\n",
       "      <td>4.803488</td>\n",
       "      <td>4.639652</td>\n",
       "    </tr>\n",
       "    <tr>\n",
       "      <th>2</th>\n",
       "      <td>Find out how you can protect yourself and love...</td>\n",
       "      <td>5.430873</td>\n",
       "      <td>4.064996</td>\n",
       "    </tr>\n",
       "    <tr>\n",
       "      <th>3</th>\n",
       "      <td>#Panic buying hits #NewYork City as anxious sh...</td>\n",
       "      <td>6.691323</td>\n",
       "      <td>2.096646</td>\n",
       "    </tr>\n",
       "    <tr>\n",
       "      <th>4</th>\n",
       "      <td>#toiletpaper #dunnypaper #coronavirus #coronav...</td>\n",
       "      <td>6.130429</td>\n",
       "      <td>0.056009</td>\n",
       "    </tr>\n",
       "  </tbody>\n",
       "</table>\n",
       "</div>"
      ],
      "text/plain": [
       "                                                text         x         y\n",
       "0  TRENDING: New Yorkers encounter empty supermar...  5.975204  1.752700\n",
       "1  When I couldn't find hand sanitizer at Fred Me...  4.803488  4.639652\n",
       "2  Find out how you can protect yourself and love...  5.430873  4.064996\n",
       "3  #Panic buying hits #NewYork City as anxious sh...  6.691323  2.096646\n",
       "4  #toiletpaper #dunnypaper #coronavirus #coronav...  6.130429  0.056009"
      ]
     },
     "execution_count": 13,
     "metadata": {},
     "output_type": "execute_result"
    }
   ],
   "source": [
    "new_df = df[['OriginalTweet', 'x', 'y']]\n",
    "new_df.rename(columns={'OriginalTweet': 'text'}, inplace=True)\n",
    "new_df.head()"
   ]
  },
  {
   "cell_type": "markdown",
   "metadata": {},
   "source": [
    "### Save the Specific Columns to File"
   ]
  },
  {
   "cell_type": "code",
   "execution_count": 15,
   "metadata": {},
   "outputs": [
    {
     "name": "stderr",
     "output_type": "stream",
     "text": [
      "/tmp/ipykernel_3466/1534014669.py:1: SettingWithCopyWarning: \n",
      "A value is trying to be set on a copy of a slice from a DataFrame.\n",
      "Try using .loc[row_indexer,col_indexer] = value instead\n",
      "\n",
      "See the caveats in the documentation: https://pandas.pydata.org/pandas-docs/stable/user_guide/indexing.html#returning-a-view-versus-a-copy\n",
      "  new_df['text'] = new_df['text'].str.lower()\n"
     ]
    }
   ],
   "source": [
    "new_df['text'] = new_df['text'].str.lower()\n",
    "new_df.to_csv('tweets.csv', index=False)"
   ]
  },
  {
   "cell_type": "markdown",
   "metadata": {},
   "source": [
    "### Run the Bulk Tool"
   ]
  },
  {
   "cell_type": "code",
   "execution_count": null,
   "metadata": {},
   "outputs": [],
   "source": [
    "import pandas as pd\n",
    "\n",
    "data = pd.read_csv('zds.csv')\n",
    "\n",
    "def assign_sentiment(tweet):\n",
    "    tweet = tweet.lower()\n",
    "    \n",
    "    if any(word in tweet for word in [\"pandemonium\", \"barmy\", \"counterfeits\", \"scammers\", \"taking advantage\", \"exorbitant prices\", \"terrifying times\", \"worst\", \"conspiracy theories\", \"misinformation\"]):\n",
    "        return \"Extremely Negative\"\n",
    "    \n",
    "    elif any(word in tweet for word in [\"panic buying\", \"empty shelves\", \"sold out\", \"shortage\", \"inflated prices\", \"price gouging\", \"concerns\", \"driving up prices\", \"fears\", \"bracing\", \"impact\", \"plunging\", \"collapse\", \"crashing\", \"volatility\"]):\n",
    "        return \"Negative\"\n",
    "    \n",
    "    elif any(word in tweet for word in [\"protect\", \"loved ones\", \"help\", \"combat\", \"effective\", \"necessary\", \"advice\", \"information\", \"donate\"]):\n",
    "        return \"Positive\"\n",
    "    \n",
    "    else:\n",
    "        return \"Neutral\"\n",
    "\n",
    "data['Sentiment'] = data['OriginalTweet'].apply(assign_sentiment)\n",
    "data = data[data['Sentiment'] != \"Neutral\"]\n",
    "print(data)\n",
    "\n",
    "\n",
    "import pandas as pd\n",
    "\n",
    "data = pd.read_csv('zds.csv')\n",
    "\n",
    "def assign_sentiment(tweet):\n",
    "    tweet = tweet.lower()\n",
    "    \n",
    "    if any(word in tweet for word in [\"amazing\", \"incredible\", \"fantastic\", \"wonderful\", \"excellent\", \"outstanding\", \"superb\", \"terrific\", \"marvelous\", \"phenomenal\"]):\n",
    "        return \"Extremely positive\"\n",
    "    \n",
    "    elif any(word in tweet for word in [\"pandemonium\", \"barmy\", \"counterfeits\", \"scammers\", \"taking advantage\", \"exorbitant prices\", \"terrifying times\", \"worst\", \"conspiracy theories\", \"misinformation\"]):\n",
    "        return \"Extremely Negative\"\n",
    "    \n",
    "    elif any(word in tweet for word in [\"panic buying\", \"empty shelves\", \"sold out\", \"shortage\", \"inflated prices\", \"price gouging\", \"concerns\", \"driving up prices\", \"fears\", \"bracing\", \"impact\", \"plunging\", \"collapse\", \"crashing\", \"volatility\"]):\n",
    "        return \"Negative\"\n",
    "    \n",
    "    elif any(word in tweet for word in [\"protect\", \"loved ones\", \"help\", \"combat\", \"effective\", \"necessary\", \"advice\", \"information\", \"donate\"]):\n",
    "        return \"Positive\"\n",
    "    \n",
    "    else:\n",
    "        return \"Neutral\"\n",
    "\n",
    "data['Sentiment'] = data['OriginalTweet'].apply(assign_sentiment)\n",
    "data = data[data['Sentiment'] != \"Neutral\"]\n",
    "print(data)"
   ]
  },
  {
   "cell_type": "code",
   "execution_count": null,
   "metadata": {},
   "outputs": [],
   "source": [
    "!python3 -m bulk text tweets.csv"
   ]
  }
 ],
 "metadata": {
  "kernelspec": {
   "display_name": "venv",
   "language": "python",
   "name": "python3"
  },
  "language_info": {
   "codemirror_mode": {
    "name": "ipython",
    "version": 3
   },
   "file_extension": ".py",
   "mimetype": "text/x-python",
   "name": "python",
   "nbconvert_exporter": "python",
   "pygments_lexer": "ipython3",
   "version": "3.8.10"
  }
 },
 "nbformat": 4,
 "nbformat_minor": 2
}
